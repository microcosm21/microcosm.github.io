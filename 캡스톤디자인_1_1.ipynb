{
  "nbformat": 4,
  "nbformat_minor": 0,
  "metadata": {
    "colab": {
      "provenance": []
    },
    "kernelspec": {
      "name": "ir",
      "display_name": "R"
    },
    "language_info": {
      "name": "R"
    }
  },
  "cells": [
    {
      "cell_type": "markdown",
      "source": [
        "# 과제 1.1\n",
        "주사위 두 개를 굴려서 나온 눈의 수를 사용해서 두 자리 숫자를 크게 만드는 사람이 이기는 게임이다. 주사위를 처음 굴려서 나온 눈의 수를 10의 자리와 1의 자리 중 어느 곳에 사용할 지 먼저 결정해야 한다. 그런 다음 두 번째로 주사위를 굴려서 나온 눈의 수는 자동으로 남은 자리의 숫자로 사용된다."
      ],
      "metadata": {
        "id": "RVl_EHeMUDHd"
      }
    },
    {
      "cell_type": "code",
      "execution_count": null,
      "metadata": {
        "id": "RNtSqV7sNEgK"
      },
      "outputs": [],
      "source": [
        "two_dice <-read.csv(\"two_dice.csv\")"
      ]
    },
    {
      "cell_type": "code",
      "source": [
        "head(two_dice)"
      ],
      "metadata": {
        "colab": {
          "base_uri": "https://localhost:8080/",
          "height": 286
        },
        "id": "3ZsbpLczRTzD",
        "outputId": "355de636-3b46-4d22-d764-ac61ccb44db1"
      },
      "execution_count": null,
      "outputs": [
        {
          "output_type": "display_data",
          "data": {
            "text/html": [
              "<table class=\"dataframe\">\n",
              "<caption>A data.frame: 6 × 2</caption>\n",
              "<thead>\n",
              "\t<tr><th></th><th scope=col>dice1</th><th scope=col>dice2</th></tr>\n",
              "\t<tr><th></th><th scope=col>&lt;int&gt;</th><th scope=col>&lt;int&gt;</th></tr>\n",
              "</thead>\n",
              "<tbody>\n",
              "\t<tr><th scope=row>1</th><td>1</td><td>4</td></tr>\n",
              "\t<tr><th scope=row>2</th><td>1</td><td>2</td></tr>\n",
              "\t<tr><th scope=row>3</th><td>5</td><td>3</td></tr>\n",
              "\t<tr><th scope=row>4</th><td>6</td><td>2</td></tr>\n",
              "\t<tr><th scope=row>5</th><td>3</td><td>3</td></tr>\n",
              "\t<tr><th scope=row>6</th><td>1</td><td>5</td></tr>\n",
              "</tbody>\n",
              "</table>\n"
            ],
            "text/markdown": "\nA data.frame: 6 × 2\n\n| <!--/--> | dice1 &lt;int&gt; | dice2 &lt;int&gt; |\n|---|---|---|\n| 1 | 1 | 4 |\n| 2 | 1 | 2 |\n| 3 | 5 | 3 |\n| 4 | 6 | 2 |\n| 5 | 3 | 3 |\n| 6 | 1 | 5 |\n\n",
            "text/latex": "A data.frame: 6 × 2\n\\begin{tabular}{r|ll}\n  & dice1 & dice2\\\\\n  & <int> & <int>\\\\\n\\hline\n\t1 & 1 & 4\\\\\n\t2 & 1 & 2\\\\\n\t3 & 5 & 3\\\\\n\t4 & 6 & 2\\\\\n\t5 & 3 & 3\\\\\n\t6 & 1 & 5\\\\\n\\end{tabular}\n",
            "text/plain": [
              "  dice1 dice2\n",
              "1 1     4    \n",
              "2 1     2    \n",
              "3 5     3    \n",
              "4 6     2    \n",
              "5 3     3    \n",
              "6 1     5    "
            ]
          },
          "metadata": {}
        }
      ]
    },
    {
      "cell_type": "markdown",
      "source": [
        "# **최선의 전략짜기**\n",
        "\n",
        "\n",
        "1.   첫 번째 주사위 눈이 4 이상일때 십의 자리에 배치하기\n",
        "2.   첫 번째 주사위 눈이 5 이상일때 십의 자리에 배치하기\n",
        "3.   첫 번째 주사위 눈이 6 이상일때 십의 자리에 배치하기\n",
        "\n"
      ],
      "metadata": {
        "id": "8vXcwHbqRYXG"
      }
    },
    {
      "cell_type": "markdown",
      "source": [
        "첫 번째 주사위 눈이 4 이상일때 십의 자리 배치하기"
      ],
      "metadata": {
        "id": "c-D0D3I7SXnA"
      }
    },
    {
      "cell_type": "code",
      "source": [
        "result_1 <- ifelse(two_dice$dice1 >= 4,\n",
        "                 two_dice$dice1 * 10 + two_dice$dice2,\n",
        "                 two_dice$dice1 + two_dice$dice2 * 10)"
      ],
      "metadata": {
        "id": "PWWHOsTkRIcv"
      },
      "execution_count": null,
      "outputs": []
    },
    {
      "cell_type": "code",
      "source": [
        "sum(result_1)"
      ],
      "metadata": {
        "colab": {
          "base_uri": "https://localhost:8080/",
          "height": 34
        },
        "id": "F8D0Z8j2RMOf",
        "outputId": "8403ef6c-be61-4011-bdaa-bf2cbc76f352"
      },
      "execution_count": null,
      "outputs": [
        {
          "output_type": "display_data",
          "data": {
            "text/html": [
              "45241257"
            ],
            "text/markdown": "45241257",
            "text/latex": "45241257",
            "text/plain": [
              "[1] 45241257"
            ]
          },
          "metadata": {}
        }
      ]
    },
    {
      "cell_type": "markdown",
      "source": [
        "첫 번째 주사위 눈이 5이상일때 십의 자리 배치하기"
      ],
      "metadata": {
        "id": "1aKdEvi-SrDG"
      }
    },
    {
      "cell_type": "code",
      "source": [
        "result_2 <- ifelse(two_dice$dice1 >= 5,\n",
        "                 two_dice$dice1 * 10 + two_dice$dice2,\n",
        "                 two_dice$dice1 + two_dice$dice2 * 10)"
      ],
      "metadata": {
        "id": "4ZluGp3vSl9h"
      },
      "execution_count": null,
      "outputs": []
    },
    {
      "cell_type": "code",
      "source": [
        "sum(result_2)"
      ],
      "metadata": {
        "colab": {
          "base_uri": "https://localhost:8080/",
          "height": 34
        },
        "id": "m5ArZQW1SvYE",
        "outputId": "4896592b-e6a4-402b-f113-76ea085b9a4a"
      },
      "execution_count": null,
      "outputs": [
        {
          "output_type": "display_data",
          "data": {
            "text/html": [
              "44482521"
            ],
            "text/markdown": "44482521",
            "text/latex": "44482521",
            "text/plain": [
              "[1] 44482521"
            ]
          },
          "metadata": {}
        }
      ]
    },
    {
      "cell_type": "markdown",
      "source": [
        "첫 번째 주사위 눈이 6이상일때 십의 자리 배치하기\n"
      ],
      "metadata": {
        "id": "PZsc_yAtSydm"
      }
    },
    {
      "cell_type": "code",
      "source": [
        "result_3 <- ifelse(two_dice$dice1 >= 6,\n",
        "                 two_dice$dice1 * 10 + two_dice$dice2,\n",
        "                 two_dice$dice1 + two_dice$dice2 * 10)"
      ],
      "metadata": {
        "id": "9eGCJsj0qiR3"
      },
      "execution_count": null,
      "outputs": []
    },
    {
      "cell_type": "code",
      "source": [
        "sum(result_3)"
      ],
      "metadata": {
        "colab": {
          "base_uri": "https://localhost:8080/",
          "height": 34
        },
        "id": "WFq6YMjLqlmX",
        "outputId": "ffdfa45a-563b-4eaf-914e-6cd6b161b4f2"
      },
      "execution_count": null,
      "outputs": [
        {
          "output_type": "display_data",
          "data": {
            "text/html": [
              "42228705"
            ],
            "text/markdown": "42228705",
            "text/latex": "42228705",
            "text/plain": [
              "[1] 42228705"
            ]
          },
          "metadata": {}
        }
      ]
    },
    {
      "cell_type": "markdown",
      "source": [
        "첫 번째 주사위 눈이 4 이상일 때 십의 자리에 배치하는 것이 총합이 가장 높으므로 최선의 전략이다."
      ],
      "metadata": {
        "id": "XosjDAgrq-vg"
      }
    },
    {
      "cell_type": "code",
      "source": [
        "mean(result_1)"
      ],
      "metadata": {
        "colab": {
          "base_uri": "https://localhost:8080/",
          "height": 34
        },
        "id": "oqWpa81trVtp",
        "outputId": "6ddbe47b-989b-4dc3-8a35-b281e59117cb"
      },
      "execution_count": null,
      "outputs": [
        {
          "output_type": "display_data",
          "data": {
            "text/html": [
              "45.241257"
            ],
            "text/markdown": "45.241257",
            "text/latex": "45.241257",
            "text/plain": [
              "[1] 45.24126"
            ]
          },
          "metadata": {}
        }
      ]
    },
    {
      "cell_type": "markdown",
      "source": [
        "최선의 전략일 때 확률분포 그래프"
      ],
      "metadata": {
        "id": "UDVm41mOsX2v"
      }
    },
    {
      "cell_type": "code",
      "source": [
        "library(ggplot2)\n",
        "\n",
        "score <- c()\n",
        "\n",
        "for (dice1 in 1:6) {\n",
        "  for (dice2 in 1:6) {\n",
        "    if (dice1 >= 4) {\n",
        "      score <- c(score, dice1 * 10 + dice2)\n",
        "    } else {\n",
        "      score <- c(score, dice2 * 10 + dice1)\n",
        "    }\n",
        "  }\n",
        "}\n",
        "\n",
        "score_df <- as.data.frame(table(score))\n",
        "score_df$pro <- score_df$Freq / 36\n",
        "\n",
        "ggplot(score_df, aes(x = as.numeric(as.character(score)), y = pro)) +\n",
        "  geom_bar(stat = 'identity') +\n",
        "  labs(title='확률분포', x='점수', y='확률')"
      ],
      "metadata": {
        "colab": {
          "base_uri": "https://localhost:8080/",
          "height": 437
        },
        "id": "F5muUEOmsYxg",
        "outputId": "925f761c-cb15-4f7a-f6b8-5b2e70f0ea91"
      },
      "execution_count": null,
      "outputs": [
        {
          "output_type": "display_data",
          "data": {
            "text/plain": [
              "plot without title"
            ],
            "image/png": "[encoded data removed]"
          },
          "metadata": {
            "image/png": {
              "width": 420,
              "height": 420
            }
          }
        }
      ]
    },
    {
      "cell_type": "code",
      "source": [
        "기댓값 구하기"
      ],
      "metadata": {
        "id": "2Wxh34seaK-h"
      },
      "execution_count": null,
      "outputs": []
    },
    {
      "cell_type": "code",
      "source": [
        "exp_value <- sum(as.numeric(as.character(score_df$score))*score_df$pro)\n",
        "exp_value"
      ],
      "metadata": {
        "colab": {
          "base_uri": "https://localhost:8080/",
          "height": 34
        },
        "id": "zRSgujg0aOVg",
        "outputId": "5ee0f62e-4ea4-4c48-9afc-0d9bb46ad323"
      },
      "execution_count": null,
      "outputs": [
        {
          "output_type": "display_data",
          "data": {
            "text/html": [
              "45.25"
            ],
            "text/markdown": "45.25",
            "text/latex": "45.25",
            "text/plain": [
              "[1] 45.25"
            ]
          },
          "metadata": {}
        }
      ]
    }
  ]
}